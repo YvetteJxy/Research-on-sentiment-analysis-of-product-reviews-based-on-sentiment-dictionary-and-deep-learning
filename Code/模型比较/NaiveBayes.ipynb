{
 "cells": [
  {
   "cell_type": "code",
   "execution_count": 1,
   "id": "0895c7e0",
   "metadata": {},
   "outputs": [],
   "source": [
    "import numpy as np\n",
    "import pandas as pd"
   ]
  },
  {
   "cell_type": "code",
   "execution_count": 2,
   "id": "84010cf4",
   "metadata": {},
   "outputs": [],
   "source": [
    "import os\n",
    "os.chdir('/Users/liuyiwei/Desktop/2022-2023-2/自然语言处理/SLCABG')\n",
    "\n",
    "import warnings\n",
    "warnings.filterwarnings(\"ignore\")"
   ]
  },
  {
   "cell_type": "code",
   "execution_count": 3,
   "id": "33c706d5",
   "metadata": {},
   "outputs": [],
   "source": [
    "positiveFiles = './data/positive_word_list.txt'\n",
    "negativeFiles = './data/negative_word_list.txt'\n",
    "\n",
    "Sentences = []\n",
    "with open(positiveFiles, 'r', encoding='utf-8') as f:\n",
    "    lines = f.readlines()\n",
    "    for line in lines:\n",
    "        Sentences.append(line.rstrip('\\n'))\n",
    "with open(negativeFiles, 'r', encoding='utf-8') as f:\n",
    "    lines = f.readlines()\n",
    "    for line in lines:\n",
    "        Sentences.append(line.rstrip('\\n'))"
   ]
  },
  {
   "cell_type": "code",
   "execution_count": 4,
   "id": "428e7aa2",
   "metadata": {},
   "outputs": [],
   "source": [
    "from sklearn.feature_extraction.text import CountVectorizer\n",
    "from sklearn.feature_extraction.text import TfidfTransformer"
   ]
  },
  {
   "cell_type": "code",
   "execution_count": 5,
   "id": "1501b6b8",
   "metadata": {},
   "outputs": [],
   "source": [
    "vectorizer = CountVectorizer() #将文本中的词语转换为词频矩阵  \n",
    "X = vectorizer.fit_transform(Sentences) #计算个词语出现的次数    \n",
    "word = vectorizer.get_feature_names() #获取词袋中所有文本关键词  "
   ]
  },
  {
   "cell_type": "code",
   "execution_count": null,
   "id": "a913bff7",
   "metadata": {},
   "outputs": [],
   "source": [
    "from sklearn.naive_bayes import MultinomialNB,GaussianNB,BernoulliNB\n",
    "from sklearn.metrics import precision_recall_curve  \n",
    "from sklearn.metrics import classification_report\n",
    "\n",
    "X = X.toarray()\n",
    "X_positive = X[:50000]\n",
    "X_negative = X[50000:]\n",
    "x_train = np.vstack((X_positive[:40000],X_negative[:40000]))\n",
    "x_test = np.vstack((X_positive[40000:],X_negative[40000:]))\n",
    "#1表示好评 0表示差评\n",
    "y_train = [1 for _ in range(40000)]\n",
    "y_train.extend([0 for _ in range(40000)])\n",
    "y_test = [1 for _ in range(10000)]\n",
    "y_test.extend([0 for _ in range(10000)])"
   ]
  },
  {
   "cell_type": "code",
   "execution_count": null,
   "id": "3bc6559a",
   "metadata": {},
   "outputs": [],
   "source": [
    "#调用MultinomialNB分类器  \n",
    "clf = MultinomialNB().fit(x_train, y_train)\n",
    "pre = clf.predict(x_test)\n",
    "print (u\"预测结果:\",pre)\n",
    "print (u\"真实结果:\",y_test)\n",
    "\n",
    "from sklearn.metrics import classification_report\n",
    "print(classification_report(y_test, pre, digits=15))"
   ]
  },
  {
   "cell_type": "code",
   "execution_count": null,
   "id": "65ac3def",
   "metadata": {},
   "outputs": [],
   "source": [
    "#调用GaussianNB分类器  \n",
    "clf = GaussianNB().fit(x_train, y_train)\n",
    "pre = clf.predict(x_test)\n",
    "print (u\"预测结果:\",pre)\n",
    "print (u\"真实结果:\",y_test)\n",
    "\n",
    "from sklearn.metrics import classification_report\n",
    "print(classification_report(y_test, pre, digits=15))"
   ]
  },
  {
   "cell_type": "code",
   "execution_count": null,
   "id": "ed755726",
   "metadata": {},
   "outputs": [],
   "source": [
    "#调用BernoulliNB分类器  \n",
    "clf = BernoulliNB().fit(x_train, y_train)\n",
    "pre = clf.predict(x_test)\n",
    "print (u\"预测结果:\",pre)\n",
    "print (u\"真实结果:\",y_test)\n",
    "\n",
    "from sklearn.metrics import classification_report\n",
    "print(classification_report(y_test, pre, digits=15))"
   ]
  },
  {
   "cell_type": "code",
   "execution_count": null,
   "id": "c03e5ecc",
   "metadata": {},
   "outputs": [],
   "source": []
  }
 ],
 "metadata": {
  "kernelspec": {
   "display_name": "Python 3 (ipykernel)",
   "language": "python",
   "name": "python3"
  },
  "language_info": {
   "codemirror_mode": {
    "name": "ipython",
    "version": 3
   },
   "file_extension": ".py",
   "mimetype": "text/x-python",
   "name": "python",
   "nbconvert_exporter": "python",
   "pygments_lexer": "ipython3",
   "version": "3.8.13"
  },
  "toc": {
   "base_numbering": 1,
   "nav_menu": {},
   "number_sections": true,
   "sideBar": true,
   "skip_h1_title": false,
   "title_cell": "Table of Contents",
   "title_sidebar": "Contents",
   "toc_cell": false,
   "toc_position": {},
   "toc_section_display": true,
   "toc_window_display": false
  }
 },
 "nbformat": 4,
 "nbformat_minor": 5
}
